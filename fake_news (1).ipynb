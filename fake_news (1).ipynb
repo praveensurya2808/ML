{
  "nbformat": 4,
  "nbformat_minor": 0,
  "metadata": {
    "colab": {
      "name": "fake_news.ipynb",
      "provenance": [],
      "collapsed_sections": []
    },
    "kernelspec": {
      "name": "python3",
      "display_name": "Python 3"
    },
    "language_info": {
      "name": "python"
    }
  },
  "cells": [
    {
      "cell_type": "code",
      "source": [
        "from google.colab import drive\n",
        "drive.mount('/content/drive')"
      ],
      "metadata": {
        "colab": {
          "base_uri": "https://localhost:8080/"
        },
        "id": "Cbp3qENXJimb",
        "outputId": "ee9fe604-c038-4a1d-cec1-97239d090a6d"
      },
      "execution_count": 1,
      "outputs": [
        {
          "output_type": "stream",
          "name": "stdout",
          "text": [
            "Mounted at /content/drive\n"
          ]
        }
      ]
    },
    {
      "cell_type": "markdown",
      "source": [
        "## English"
      ],
      "metadata": {
        "id": "IUuAhoVGljxJ"
      }
    },
    {
      "cell_type": "markdown",
      "source": [
        "Read dataset"
      ],
      "metadata": {
        "id": "zmoxxWGhMyEh"
      }
    },
    {
      "cell_type": "code",
      "execution_count": 2,
      "metadata": {
        "id": "BvOnUeyu14l1"
      },
      "outputs": [],
      "source": [
        "import numpy as np\n",
        "import pandas as pd"
      ]
    },
    {
      "cell_type": "code",
      "source": [
        "data1 = pd.read_csv(\"drive/MyDrive/news/english/True.csv\")\n",
        "data2 = pd.read_csv(\"drive/MyDrive/news/english/Fake.csv\")\n",
        "data = pd.concat([data1, data2]).reset_index(drop=True)\n",
        "data"
      ],
      "metadata": {
        "colab": {
          "base_uri": "https://localhost:8080/",
          "height": 815
        },
        "id": "blylIypxJ82D",
        "outputId": "cf587a9b-2e8d-4454-ce16-635cadf4dd6a"
      },
      "execution_count": 3,
      "outputs": [
        {
          "output_type": "execute_result",
          "data": {
            "text/plain": [
              "                                                   title  \\\n",
              "0      As U.S. budget fight looms, Republicans flip t...   \n",
              "1      U.S. military to accept transgender recruits o...   \n",
              "2      Senior U.S. Republican senator: 'Let Mr. Muell...   \n",
              "3      FBI Russia probe helped by Australian diplomat...   \n",
              "4      Trump wants Postal Service to charge 'much mor...   \n",
              "...                                                  ...   \n",
              "44893  McPain: John McCain Furious That Iran Treated ...   \n",
              "44894  JUSTICE? Yahoo Settles E-mail Privacy Class-ac...   \n",
              "44895  Sunnistan: US and Allied ‘Safe Zone’ Plan to T...   \n",
              "44896  How to Blow $700 Million: Al Jazeera America F...   \n",
              "44897  10 U.S. Navy Sailors Held by Iranian Military ...   \n",
              "\n",
              "                                                    text       subject  \\\n",
              "0      WASHINGTON (Reuters) - The head of a conservat...  politicsNews   \n",
              "1      WASHINGTON (Reuters) - Transgender people will...  politicsNews   \n",
              "2      WASHINGTON (Reuters) - The special counsel inv...  politicsNews   \n",
              "3      WASHINGTON (Reuters) - Trump campaign adviser ...  politicsNews   \n",
              "4      SEATTLE/WASHINGTON (Reuters) - President Donal...  politicsNews   \n",
              "...                                                  ...           ...   \n",
              "44893  21st Century Wire says As 21WIRE reported earl...   Middle-east   \n",
              "44894  21st Century Wire says It s a familiar theme. ...   Middle-east   \n",
              "44895  Patrick Henningsen  21st Century WireRemember ...   Middle-east   \n",
              "44896  21st Century Wire says Al Jazeera America will...   Middle-east   \n",
              "44897  21st Century Wire says As 21WIRE predicted in ...   Middle-east   \n",
              "\n",
              "                     date  \n",
              "0      December 31, 2017   \n",
              "1      December 29, 2017   \n",
              "2      December 31, 2017   \n",
              "3      December 30, 2017   \n",
              "4      December 29, 2017   \n",
              "...                   ...  \n",
              "44893    January 16, 2016  \n",
              "44894    January 16, 2016  \n",
              "44895    January 15, 2016  \n",
              "44896    January 14, 2016  \n",
              "44897    January 12, 2016  \n",
              "\n",
              "[44898 rows x 4 columns]"
            ],
            "text/html": [
              "\n",
              "  <div id=\"df-0dc24729-761e-489a-b687-420bd182db51\">\n",
              "    <div class=\"colab-df-container\">\n",
              "      <div>\n",
              "<style scoped>\n",
              "    .dataframe tbody tr th:only-of-type {\n",
              "        vertical-align: middle;\n",
              "    }\n",
              "\n",
              "    .dataframe tbody tr th {\n",
              "        vertical-align: top;\n",
              "    }\n",
              "\n",
              "    .dataframe thead th {\n",
              "        text-align: right;\n",
              "    }\n",
              "</style>\n",
              "<table border=\"1\" class=\"dataframe\">\n",
              "  <thead>\n",
              "    <tr style=\"text-align: right;\">\n",
              "      <th></th>\n",
              "      <th>title</th>\n",
              "      <th>text</th>\n",
              "      <th>subject</th>\n",
              "      <th>date</th>\n",
              "    </tr>\n",
              "  </thead>\n",
              "  <tbody>\n",
              "    <tr>\n",
              "      <th>0</th>\n",
              "      <td>As U.S. budget fight looms, Republicans flip t...</td>\n",
              "      <td>WASHINGTON (Reuters) - The head of a conservat...</td>\n",
              "      <td>politicsNews</td>\n",
              "      <td>December 31, 2017</td>\n",
              "    </tr>\n",
              "    <tr>\n",
              "      <th>1</th>\n",
              "      <td>U.S. military to accept transgender recruits o...</td>\n",
              "      <td>WASHINGTON (Reuters) - Transgender people will...</td>\n",
              "      <td>politicsNews</td>\n",
              "      <td>December 29, 2017</td>\n",
              "    </tr>\n",
              "    <tr>\n",
              "      <th>2</th>\n",
              "      <td>Senior U.S. Republican senator: 'Let Mr. Muell...</td>\n",
              "      <td>WASHINGTON (Reuters) - The special counsel inv...</td>\n",
              "      <td>politicsNews</td>\n",
              "      <td>December 31, 2017</td>\n",
              "    </tr>\n",
              "    <tr>\n",
              "      <th>3</th>\n",
              "      <td>FBI Russia probe helped by Australian diplomat...</td>\n",
              "      <td>WASHINGTON (Reuters) - Trump campaign adviser ...</td>\n",
              "      <td>politicsNews</td>\n",
              "      <td>December 30, 2017</td>\n",
              "    </tr>\n",
              "    <tr>\n",
              "      <th>4</th>\n",
              "      <td>Trump wants Postal Service to charge 'much mor...</td>\n",
              "      <td>SEATTLE/WASHINGTON (Reuters) - President Donal...</td>\n",
              "      <td>politicsNews</td>\n",
              "      <td>December 29, 2017</td>\n",
              "    </tr>\n",
              "    <tr>\n",
              "      <th>...</th>\n",
              "      <td>...</td>\n",
              "      <td>...</td>\n",
              "      <td>...</td>\n",
              "      <td>...</td>\n",
              "    </tr>\n",
              "    <tr>\n",
              "      <th>44893</th>\n",
              "      <td>McPain: John McCain Furious That Iran Treated ...</td>\n",
              "      <td>21st Century Wire says As 21WIRE reported earl...</td>\n",
              "      <td>Middle-east</td>\n",
              "      <td>January 16, 2016</td>\n",
              "    </tr>\n",
              "    <tr>\n",
              "      <th>44894</th>\n",
              "      <td>JUSTICE? Yahoo Settles E-mail Privacy Class-ac...</td>\n",
              "      <td>21st Century Wire says It s a familiar theme. ...</td>\n",
              "      <td>Middle-east</td>\n",
              "      <td>January 16, 2016</td>\n",
              "    </tr>\n",
              "    <tr>\n",
              "      <th>44895</th>\n",
              "      <td>Sunnistan: US and Allied ‘Safe Zone’ Plan to T...</td>\n",
              "      <td>Patrick Henningsen  21st Century WireRemember ...</td>\n",
              "      <td>Middle-east</td>\n",
              "      <td>January 15, 2016</td>\n",
              "    </tr>\n",
              "    <tr>\n",
              "      <th>44896</th>\n",
              "      <td>How to Blow $700 Million: Al Jazeera America F...</td>\n",
              "      <td>21st Century Wire says Al Jazeera America will...</td>\n",
              "      <td>Middle-east</td>\n",
              "      <td>January 14, 2016</td>\n",
              "    </tr>\n",
              "    <tr>\n",
              "      <th>44897</th>\n",
              "      <td>10 U.S. Navy Sailors Held by Iranian Military ...</td>\n",
              "      <td>21st Century Wire says As 21WIRE predicted in ...</td>\n",
              "      <td>Middle-east</td>\n",
              "      <td>January 12, 2016</td>\n",
              "    </tr>\n",
              "  </tbody>\n",
              "</table>\n",
              "<p>44898 rows × 4 columns</p>\n",
              "</div>\n",
              "      <button class=\"colab-df-convert\" onclick=\"convertToInteractive('df-0dc24729-761e-489a-b687-420bd182db51')\"\n",
              "              title=\"Convert this dataframe to an interactive table.\"\n",
              "              style=\"display:none;\">\n",
              "        \n",
              "  <svg xmlns=\"http://www.w3.org/2000/svg\" height=\"24px\"viewBox=\"0 0 24 24\"\n",
              "       width=\"24px\">\n",
              "    <path d=\"M0 0h24v24H0V0z\" fill=\"none\"/>\n",
              "    <path d=\"M18.56 5.44l.94 2.06.94-2.06 2.06-.94-2.06-.94-.94-2.06-.94 2.06-2.06.94zm-11 1L8.5 8.5l.94-2.06 2.06-.94-2.06-.94L8.5 2.5l-.94 2.06-2.06.94zm10 10l.94 2.06.94-2.06 2.06-.94-2.06-.94-.94-2.06-.94 2.06-2.06.94z\"/><path d=\"M17.41 7.96l-1.37-1.37c-.4-.4-.92-.59-1.43-.59-.52 0-1.04.2-1.43.59L10.3 9.45l-7.72 7.72c-.78.78-.78 2.05 0 2.83L4 21.41c.39.39.9.59 1.41.59.51 0 1.02-.2 1.41-.59l7.78-7.78 2.81-2.81c.8-.78.8-2.07 0-2.86zM5.41 20L4 18.59l7.72-7.72 1.47 1.35L5.41 20z\"/>\n",
              "  </svg>\n",
              "      </button>\n",
              "      \n",
              "  <style>\n",
              "    .colab-df-container {\n",
              "      display:flex;\n",
              "      flex-wrap:wrap;\n",
              "      gap: 12px;\n",
              "    }\n",
              "\n",
              "    .colab-df-convert {\n",
              "      background-color: #E8F0FE;\n",
              "      border: none;\n",
              "      border-radius: 50%;\n",
              "      cursor: pointer;\n",
              "      display: none;\n",
              "      fill: #1967D2;\n",
              "      height: 32px;\n",
              "      padding: 0 0 0 0;\n",
              "      width: 32px;\n",
              "    }\n",
              "\n",
              "    .colab-df-convert:hover {\n",
              "      background-color: #E2EBFA;\n",
              "      box-shadow: 0px 1px 2px rgba(60, 64, 67, 0.3), 0px 1px 3px 1px rgba(60, 64, 67, 0.15);\n",
              "      fill: #174EA6;\n",
              "    }\n",
              "\n",
              "    [theme=dark] .colab-df-convert {\n",
              "      background-color: #3B4455;\n",
              "      fill: #D2E3FC;\n",
              "    }\n",
              "\n",
              "    [theme=dark] .colab-df-convert:hover {\n",
              "      background-color: #434B5C;\n",
              "      box-shadow: 0px 1px 3px 1px rgba(0, 0, 0, 0.15);\n",
              "      filter: drop-shadow(0px 1px 2px rgba(0, 0, 0, 0.3));\n",
              "      fill: #FFFFFF;\n",
              "    }\n",
              "  </style>\n",
              "\n",
              "      <script>\n",
              "        const buttonEl =\n",
              "          document.querySelector('#df-0dc24729-761e-489a-b687-420bd182db51 button.colab-df-convert');\n",
              "        buttonEl.style.display =\n",
              "          google.colab.kernel.accessAllowed ? 'block' : 'none';\n",
              "\n",
              "        async function convertToInteractive(key) {\n",
              "          const element = document.querySelector('#df-0dc24729-761e-489a-b687-420bd182db51');\n",
              "          const dataTable =\n",
              "            await google.colab.kernel.invokeFunction('convertToInteractive',\n",
              "                                                     [key], {});\n",
              "          if (!dataTable) return;\n",
              "\n",
              "          const docLinkHtml = 'Like what you see? Visit the ' +\n",
              "            '<a target=\"_blank\" href=https://colab.research.google.com/notebooks/data_table.ipynb>data table notebook</a>'\n",
              "            + ' to learn more about interactive tables.';\n",
              "          element.innerHTML = '';\n",
              "          dataTable['output_type'] = 'display_data';\n",
              "          await google.colab.output.renderOutput(dataTable, element);\n",
              "          const docLink = document.createElement('div');\n",
              "          docLink.innerHTML = docLinkHtml;\n",
              "          element.appendChild(docLink);\n",
              "        }\n",
              "      </script>\n",
              "    </div>\n",
              "  </div>\n",
              "  "
            ]
          },
          "metadata": {},
          "execution_count": 3
        }
      ]
    },
    {
      "cell_type": "code",
      "source": [
        "y = [1 for i in range(data1.shape[0])] + [0 for i in range(data2.shape[0])]\n",
        "y = pd.Series(y)\n",
        "y"
      ],
      "metadata": {
        "colab": {
          "base_uri": "https://localhost:8080/"
        },
        "id": "8UYiUiMpLezT",
        "outputId": "82b3d839-e6c3-436b-a5fe-bd92560ca65c"
      },
      "execution_count": 4,
      "outputs": [
        {
          "output_type": "execute_result",
          "data": {
            "text/plain": [
              "0        1\n",
              "1        1\n",
              "2        1\n",
              "3        1\n",
              "4        1\n",
              "        ..\n",
              "44893    0\n",
              "44894    0\n",
              "44895    0\n",
              "44896    0\n",
              "44897    0\n",
              "Length: 44898, dtype: int64"
            ]
          },
          "metadata": {},
          "execution_count": 4
        }
      ]
    },
    {
      "cell_type": "code",
      "source": [
        "def transform(c):\n",
        "    return c[\"title\"] + \" \" + c[\"text\"]\n",
        "data = data.apply(transform, axis=1)\n",
        "data"
      ],
      "metadata": {
        "colab": {
          "base_uri": "https://localhost:8080/"
        },
        "id": "bpKqyRJkLm_i",
        "outputId": "b254b310-0174-4518-b0b9-d14ac1aecb27"
      },
      "execution_count": 5,
      "outputs": [
        {
          "output_type": "execute_result",
          "data": {
            "text/plain": [
              "0        As U.S. budget fight looms, Republicans flip t...\n",
              "1        U.S. military to accept transgender recruits o...\n",
              "2        Senior U.S. Republican senator: 'Let Mr. Muell...\n",
              "3        FBI Russia probe helped by Australian diplomat...\n",
              "4        Trump wants Postal Service to charge 'much mor...\n",
              "                               ...                        \n",
              "44893    McPain: John McCain Furious That Iran Treated ...\n",
              "44894    JUSTICE? Yahoo Settles E-mail Privacy Class-ac...\n",
              "44895    Sunnistan: US and Allied ‘Safe Zone’ Plan to T...\n",
              "44896    How to Blow $700 Million: Al Jazeera America F...\n",
              "44897    10 U.S. Navy Sailors Held by Iranian Military ...\n",
              "Length: 44898, dtype: object"
            ]
          },
          "metadata": {},
          "execution_count": 5
        }
      ]
    },
    {
      "cell_type": "markdown",
      "source": [
        "Text Processing - Cleaning"
      ],
      "metadata": {
        "id": "KEMC_mFcM2LZ"
      }
    },
    {
      "cell_type": "code",
      "source": [
        "import nltk\n",
        "nltk.download('stopwords')\n",
        "nltk.download('wordnet')\n",
        "nltk.download('punkt')"
      ],
      "metadata": {
        "colab": {
          "base_uri": "https://localhost:8080/"
        },
        "id": "Gij5LIXKNMxC",
        "outputId": "c729da8f-86ef-4b1b-bd5e-2a9fd31e7ec1"
      },
      "execution_count": 6,
      "outputs": [
        {
          "output_type": "stream",
          "name": "stdout",
          "text": [
            "[nltk_data] Downloading package stopwords to /root/nltk_data...\n",
            "[nltk_data]   Unzipping corpora/stopwords.zip.\n",
            "[nltk_data] Downloading package wordnet to /root/nltk_data...\n",
            "[nltk_data]   Unzipping corpora/wordnet.zip.\n",
            "[nltk_data] Downloading package punkt to /root/nltk_data...\n",
            "[nltk_data]   Unzipping tokenizers/punkt.zip.\n"
          ]
        },
        {
          "output_type": "execute_result",
          "data": {
            "text/plain": [
              "True"
            ]
          },
          "metadata": {},
          "execution_count": 6
        }
      ]
    },
    {
      "cell_type": "code",
      "source": [
        "from nltk.tokenize import word_tokenize\n",
        "\n",
        "from nltk.stem.snowball import SnowballStemmer\n",
        "stemmer = SnowballStemmer(language=\"english\")\n",
        "\n",
        "from nltk.corpus import stopwords\n",
        "stop_words = set(stopwords.words('english'))\n",
        "\n",
        "import string\n",
        "punct = string.punctuation"
      ],
      "metadata": {
        "id": "kqg0-ed4M2tJ"
      },
      "execution_count": 7,
      "outputs": []
    },
    {
      "cell_type": "code",
      "source": [
        "def process(s):\n",
        "    for p in punct:\n",
        "        s = s.replace(p, '')\n",
        "    s = s.lower()\n",
        "    s = word_tokenize(s)\n",
        "    s = [w for w in s if not w in stop_words] #optional\n",
        "    s = [stemmer.stem(word) for word in s]\n",
        "    return s"
      ],
      "metadata": {
        "id": "7jG-MHMONuMI"
      },
      "execution_count": 8,
      "outputs": []
    },
    {
      "cell_type": "code",
      "source": [
        "number_of_samples = data.shape[0]\n",
        "\n",
        "from tqdm import tqdm\n",
        "\n",
        "for i in tqdm(range(number_of_samples)):\n",
        "    data[i] = process(data[i])"
      ],
      "metadata": {
        "colab": {
          "base_uri": "https://localhost:8080/"
        },
        "id": "y_K7jRvjOgtB",
        "outputId": "61bf984d-bb80-4d02-b9db-35b5c9b81384"
      },
      "execution_count": 9,
      "outputs": [
        {
          "output_type": "stream",
          "name": "stderr",
          "text": [
            "100%|██████████| 44898/44898 [04:42<00:00, 158.84it/s]\n"
          ]
        }
      ]
    },
    {
      "cell_type": "code",
      "source": [
        "for i in tqdm(range(number_of_samples)):\n",
        "    data[i] = \" \".join(data[i])"
      ],
      "metadata": {
        "colab": {
          "base_uri": "https://localhost:8080/"
        },
        "id": "Mq-C7rKhOpW5",
        "outputId": "4ad60b04-fb94-464a-9a87-c035c5eb2596"
      },
      "execution_count": 10,
      "outputs": [
        {
          "output_type": "stream",
          "name": "stderr",
          "text": [
            "100%|██████████| 44898/44898 [00:01<00:00, 37897.08it/s]\n"
          ]
        }
      ]
    },
    {
      "cell_type": "markdown",
      "source": [
        "Text Representation"
      ],
      "metadata": {
        "id": "aE-YvVhzOsNw"
      }
    },
    {
      "cell_type": "code",
      "source": [
        "from sklearn.feature_extraction.text import CountVectorizer, TfidfVectorizer\n",
        "eng_vec = CountVectorizer(max_features=5000)\n",
        "bow_data = eng_vec.fit_transform(data).toarray()\n",
        "features = eng_vec.get_feature_names_out()\n",
        "bow_data = pd.DataFrame(bow_data, columns=features)"
      ],
      "metadata": {
        "id": "mnSo5lbUO49x"
      },
      "execution_count": 11,
      "outputs": []
    },
    {
      "cell_type": "markdown",
      "source": [
        "Training"
      ],
      "metadata": {
        "id": "uXf6AKG7PJtx"
      }
    },
    {
      "cell_type": "code",
      "source": [
        "from sklearn.naive_bayes import MultinomialNB\n",
        "nb = MultinomialNB()\n",
        "from sklearn.naive_bayes import BernoulliNB\n",
        "bnb = BernoulliNB()\n",
        "from sklearn.tree import DecisionTreeClassifier\n",
        "dt = DecisionTreeClassifier()\n",
        "from sklearn.linear_model import SGDClassifier\n",
        "sgd = SGDClassifier(loss=\"log\")\n",
        "from sklearn.ensemble import RandomForestClassifier\n",
        "rf = RandomForestClassifier()\n",
        "from sklearn.ensemble import VotingClassifier\n",
        "model = VotingClassifier(estimators=[('MultinomialNB', nb), ('BernoulliNB', bnb), ('DecisionTreeClassifier', dt),\n",
        "                                              ('SGDClassifier', sgd), ('RandomForestClassifier', rf)], voting='soft')"
      ],
      "metadata": {
        "id": "t0zH1VswPJGg"
      },
      "execution_count": 12,
      "outputs": []
    },
    {
      "cell_type": "code",
      "source": [
        "from sklearn.model_selection import train_test_split\n",
        "from sklearn.metrics import classification_report\n",
        "\n",
        "xtrain, xtest, ytrain, ytest = train_test_split(bow_data, y, test_size=0.2)\n",
        "model.fit(xtrain, ytrain)\n",
        "ypred_ts = model.predict(xtest)\n",
        "print(\"Testing Results:\\n\")\n",
        "print(classification_report(ytest, ypred_ts, target_names=['FAKE', 'REAL']))"
      ],
      "metadata": {
        "colab": {
          "base_uri": "https://localhost:8080/"
        },
        "id": "1TACCxlAQAzw",
        "outputId": "a07a2384-0031-4f22-d9e6-2cb36b64dc30"
      },
      "execution_count": 13,
      "outputs": [
        {
          "output_type": "stream",
          "name": "stdout",
          "text": [
            "Testing Results:\n",
            "\n",
            "              precision    recall  f1-score   support\n",
            "\n",
            "        FAKE       1.00      1.00      1.00      4681\n",
            "        REAL       1.00      1.00      1.00      4299\n",
            "\n",
            "    accuracy                           1.00      8980\n",
            "   macro avg       1.00      1.00      1.00      8980\n",
            "weighted avg       1.00      1.00      1.00      8980\n",
            "\n"
          ]
        }
      ]
    },
    {
      "cell_type": "code",
      "source": [
        "import joblib  \n",
        "# Save the model as a pickle in a file \n",
        "joblib.dump(model, 'english.pkl')  "
      ],
      "metadata": {
        "colab": {
          "base_uri": "https://localhost:8080/"
        },
        "id": "iYqUDvJVQ03C",
        "outputId": "6a396648-2bad-4952-ca9e-76942c7db313"
      },
      "execution_count": 14,
      "outputs": [
        {
          "output_type": "execute_result",
          "data": {
            "text/plain": [
              "['english.pkl']"
            ]
          },
          "metadata": {},
          "execution_count": 14
        }
      ]
    },
    {
      "cell_type": "markdown",
      "source": [
        "Prediction"
      ],
      "metadata": {
        "id": "0paqyRHSfya7"
      }
    },
    {
      "cell_type": "code",
      "source": [
        "tinput = 'As U.S. budget fight looms, Republicans flip their fiscal script WASHINGTON (Reuters) - The head of a conservative Republican faction in the U.S. Congress, who voted this month for a huge expansion of the national debt to pay for tax cuts, called himself a â€œfiscal conservativeâ€ on Sunday and urged budget restraint in 2018. In keeping with a sharp pivot under way among Republicans, U.S. Representative Mark Meadows, speaking on CBSâ€™ â€œFace the Nation,â€ drew a hard line on federal spending, which lawmakers are bracing to do battle over in January. When they return from the holidays on Wednesday, lawmakers will begin trying to pass a federal budget in a fight likely to be linked to other issues, such as immigration policy, even as the November congressional election campaigns approach in which Republicans will seek to keep control of Congress. President Donald Trump and his Republicans want a big budget increase in military spending, while Democrats also want proportional increases for non-defense â€œdiscretionaryâ€ spending on programs that support education, scientific research, infrastructure, public health and environmental protection. â€œThe (Trump) administration has already been willing to say: â€˜Weâ€™re going to increase non-defense discretionary spending ... by about 7 percent,â€™â€ Meadows, chairman of the small but influential House Freedom Caucus, said on the program. â€œNow, Democrats are saying thatâ€™s not enough, we need to give the government a pay raise of 10 to 11 percent. For a fiscal conservative, I donâ€™t see where the rationale is. ... Eventually you run out of other peopleâ€™s money,â€ he said. Meadows was among Republicans who voted in late December for their partyâ€™s debt-financed tax overhaul, which is expected to balloon the federal budget deficit and add about $1.5 trillion over 10 years to the $20 trillion national debt. â€œItâ€™s interesting to hear Mark talk about fiscal responsibility,â€ Democratic U.S. Representative Joseph Crowley said on CBS. Crowley said the Republican tax bill would require the  United States to borrow $1.5 trillion, to be paid off by future generations, to finance tax cuts for corporations and the rich. â€œThis is one of the least ... fiscally responsible bills weâ€™ve ever seen passed in the history of the House of Representatives. I think weâ€™re going to be paying for this for many, many years to come,â€ Crowley said. Republicans insist the tax package, the biggest U.S. tax overhaul in more than 30 years,  will boost the economy and job growth. House Speaker Paul Ryan, who also supported the tax bill, recently went further than Meadows, making clear in a radio interview that welfare or â€œentitlement reform,â€ as the party often calls it, would be a top Republican priority in 2018. In Republican parlance, â€œentitlementâ€ programs mean food stamps, housing assistance, Medicare and Medicaid health insurance for the elderly, poor and disabled, as well as other programs created by Washington to assist the needy. Democrats seized on Ryanâ€™s early December remarks, saying they showed Republicans would try to pay for their tax overhaul by seeking spending cuts for social programs. But the goals of House Republicans may have to take a back seat to the Senate, where the votes of some Democrats will be needed to approve a budget and prevent a government shutdown. Democrats will use their leverage in the Senate, which Republicans narrowly control, to defend both discretionary non-defense programs and social spending, while tackling the issue of the â€œDreamers,â€ people brought illegally to the country as children. Trump in September put a March 2018 expiration date on the Deferred Action for Childhood Arrivals, or DACA, program, which protects the young immigrants from deportation and provides them with work permits. The president has said in recent Twitter messages he wants funding for his proposed Mexican border wall and other immigration law changes in exchange for agreeing to help the Dreamers. Representative Debbie Dingell told CBS she did not favor linking that issue to other policy objectives, such as wall funding. â€œWe need to do DACA clean,â€ she said.  On Wednesday, Trump aides will meet with congressional leaders to discuss those issues. That will be followed by a weekend of strategy sessions for Trump and Republican leaders on Jan. 6 and 7, the White House said. Trump was also scheduled to meet on Sunday with Florida Republican Governor Rick Scott, who wants more emergency aid. The House has passed an $81 billion aid package after hurricanes in Florida, Texas and Puerto Rico, and wildfires in California. The package far exceeded the $44 billion requested by the Trump administration. The Senate has not yet voted on the aid.'\n",
        "finput = 'Donald Trump Sends Out Embarrassing New Yearâ€™s Eve Message; This is Disturbing Donald Trump just couldn t wish all Americans a Happy New Year and leave it at that. Instead, he had to give a shout out to his enemies, haters and  the very dishonest fake news media.  The former reality show star had just one job to do and he couldn t do it. As our Country rapidly grows stronger and smarter, I want to wish all of my friends, supporters, enemies, haters, and even the very dishonest Fake News Media, a Happy and Healthy New Year,  President Angry Pants tweeted.  2018 will be a great year for America! As our Country rapidly grows stronger and smarter, I want to wish all of my friends, supporters, enemies, haters, and even the very dishonest Fake News Media, a Happy and Healthy New Year. 2018 will be a great year for America!  Donald J. Trump (@realDonaldTrump) December 31, 2017Trump s tweet went down about as welll as you d expect.What kind of president sends a New Year s greeting like this despicable, petty, infantile gibberish? Only Trump! His lack of decency won t even allow him to rise above the gutter long enough to wish the American citizens a happy new year!  Bishop Talbert Swan (@TalbertSwan) December 31, 2017no one likes you  Calvin (@calvinstowell) December 31, 2017Your impeachment would make 2018 a great year for America, but I ll also accept regaining control of Congress.  Miranda Yaver (@mirandayaver) December 31, 2017Do you hear yourself talk? When you have to include that many people that hate you you have to wonder? Why do the they all hate me?  Alan Sandoval (@AlanSandoval13) December 31, 2017Who uses the word Haters in a New Years wish??  Marlene (@marlene399) December 31, 2017You can t just say happy new year?  Koren pollitt (@Korencarpenter) December 31, 2017Here s Trump s New Year s Eve tweet from 2016.Happy New Year to all, including to my many enemies and those who have fought me and lost so badly they just don t know what to do. Love!  Donald J. Trump (@realDonaldTrump) December 31, 2016This is nothing new for Trump. He s been doing this for years.Trump has directed messages to his  enemies  and  haters  for New Year s, Easter, Thanksgiving, and the anniversary of 9/11. pic.twitter.com/4FPAe2KypA  Daniel Dale (@ddale8) December 31, 2017Trump s holiday tweets are clearly not presidential.How long did he work at Hallmark before becoming President?  Steven Goodine (@SGoodine) December 31, 2017He s always been like this . . . the only difference is that in the last few years, his filter has been breaking down.  Roy Schulze (@thbthttt) December 31, 2017Who, apart from a teenager uses the term haters?  Wendy (@WendyWhistles) December 31, 2017he s a fucking 5 year old  Who Knows (@rainyday80) December 31, 2017So, to all the people who voted for this a hole thinking he would change once he got into power, you were wrong! 70-year-old men don t change and now he s a year older.Photo by Andrew Burton/Getty Images.'\n",
        "input = process(finput)\n",
        "input = \" \".join(input)\n",
        "input = eng_vec.transform([input]).toarray()\n",
        "features = eng_vec.get_feature_names_out()\n",
        "input = pd.DataFrame(input, columns=features)\n",
        "model = joblib.load('english.pkl')\n",
        "pred = model.predict(input)\n",
        "if pred[0] == 1:\n",
        "    print('REAL')\n",
        "else:\n",
        "    print('FAKE')"
      ],
      "metadata": {
        "colab": {
          "base_uri": "https://localhost:8080/"
        },
        "id": "tgvkyRf6f0tK",
        "outputId": "8cb32458-179b-4f3b-96f2-3bf5e20781df"
      },
      "execution_count": 15,
      "outputs": [
        {
          "output_type": "stream",
          "name": "stdout",
          "text": [
            "FAKE\n"
          ]
        }
      ]
    },
    {
      "cell_type": "markdown",
      "source": [
        "## Hindi"
      ],
      "metadata": {
        "id": "nzL4Hv24lpbY"
      }
    },
    {
      "cell_type": "code",
      "source": [
        "import json\n",
        "import pandas as pd\n",
        "import re\n",
        "\n",
        "with open('drive/MyDrive/news/hindi/fake_news-all.json') as f:\n",
        "  fake_news = json.load(f)\n",
        "  #json to dataframe\n",
        "  fake_news = pd.json_normalize(fake_news,'fake_news')\n",
        "  f.close()\n",
        "\n",
        "with open('drive/MyDrive/news/hindi/true_news_all_dirty.json') as f:\n",
        "  true_news = json.load(f)\n",
        "  #json to dataframe\n",
        "  true_news = pd.json_normalize(true_news,'true_news')\n",
        "  f.close()"
      ],
      "metadata": {
        "id": "FypDtGtJr6vP"
      },
      "execution_count": 16,
      "outputs": []
    },
    {
      "cell_type": "code",
      "source": [
        "true_news = true_news.rename(columns={'short_desc': 'short_description'})"
      ],
      "metadata": {
        "id": "NcnSx7Yaw6Wc"
      },
      "execution_count": 17,
      "outputs": []
    },
    {
      "cell_type": "code",
      "source": [
        "# dropping unncessary columns\n",
        "true_news = true_news.drop(['full_title','long_description','name','url'],axis=1)\n",
        "fake_news = fake_news.drop(['full_title', 'long_description', 'url'],axis=1)"
      ],
      "metadata": {
        "id": "X0TmMjcMsUGd"
      },
      "execution_count": 18,
      "outputs": []
    },
    {
      "cell_type": "code",
      "source": [
        "# removing null values\n",
        "fake_news = fake_news.dropna()\n",
        "true_news = true_news.dropna()"
      ],
      "metadata": {
        "id": "DwUTnH99srGn"
      },
      "execution_count": 19,
      "outputs": []
    },
    {
      "cell_type": "markdown",
      "source": [
        "Text Processing - Cleaning"
      ],
      "metadata": {
        "id": "x7g_lxevtXsl"
      }
    },
    {
      "cell_type": "code",
      "source": [
        "import warnings\n",
        "warnings.filterwarnings('ignore')\n",
        "\n",
        "def punct_re(true_news): \n",
        "    for i in list(true_news):\n",
        "        true_news[i]=true_news[i].str.replace('|', '')\n",
        "        true_news[i]=true_news[i].str.replace('?', '')\n",
        "        true_news[i]=true_news[i].str.replace(':', '')\n",
        "        true_news[i]=true_news[i].str.replace(';', '')\n",
        "        true_news[i]=true_news[i].str.replace(\"'\", '')\n",
        "        true_news[i]=true_news[i].str.replace('\"', '')\n",
        "        true_news[i]=true_news[i].str.replace(',', '')\n",
        "        true_news[i]=true_news[i].str.replace('.', '')\n",
        "        true_news[i]=true_news[i].str.replace('(', '')\n",
        "        true_news[i]=true_news[i].str.replace(')', '')\n",
        "        true_news[i]=true_news[i].str.replace('\\n', '')\n",
        "        true_news[i]=true_news[i].str.replace('&', '')\n",
        "    return true_news"
      ],
      "metadata": {
        "id": "Ryvqu0len98z"
      },
      "execution_count": 20,
      "outputs": []
    },
    {
      "cell_type": "code",
      "source": [
        "true_news = punct_re(true_news)\n",
        "fake_news = punct_re(fake_news)"
      ],
      "metadata": {
        "id": "xCuj0zjGoc4o"
      },
      "execution_count": 21,
      "outputs": []
    },
    {
      "cell_type": "markdown",
      "source": [
        "Stemming"
      ],
      "metadata": {
        "id": "XpHvEdh8t1Bt"
      }
    },
    {
      "cell_type": "code",
      "source": [
        "suffixes = {\n",
        "    1: [\"ो\", \"े\", \"ू\", \"ु\", \"ी\", \"ि\", \"ा\"],\n",
        "    2: [\"कर\", \"ाओ\", \"िए\", \"ाई\", \"ाए\", \"ने\", \"नी\", \"ना\", \"ते\", \"ीं\", \"ती\", \"ता\", \"ाँ\", \"ां\", \"ों\", \"ें\"],\n",
        "    3: [\"ाकर\", \"ाइए\", \"ाईं\", \"ाया\", \"ेगी\", \"ेगा\", \"ोगी\", \"ोगे\", \"ाने\", \"ाना\", \"ाते\", \"ाती\", \"ाता\", \"तीं\", \"ाओं\", \"ाएं\", \"ुओं\", \"ुएं\", \"ुआं\"],\n",
        "    4: [\"ाएगी\", \"ाएगा\", \"ाओगी\", \"ाओगे\", \"एंगी\", \"ेंगी\", \"एंगे\", \"ेंगे\", \"ूंगी\", \"ूंगा\", \"ातीं\", \"नाओं\", \"नाएं\", \"ताओं\", \"ताएं\", \"ियाँ\", \"ियों\", \"ियां\"],\n",
        "    5: [\"ाएंगी\", \"ाएंगे\", \"ाऊंगी\", \"ाऊंगा\", \"ाइयाँ\", \"ाइयों\", \"ाइयां\"],\n",
        "}\n",
        "\n",
        "def hi_stem(word):\n",
        "    for L in 5, 4, 3, 2, 1:\n",
        "        if len(word) > L + 1:\n",
        "            for suf in suffixes[L]:\n",
        "                if word.endswith(suf):\n",
        "                    return word[:-L]\n",
        "    return word"
      ],
      "metadata": {
        "id": "28CFuTvRtyXt"
      },
      "execution_count": 22,
      "outputs": []
    },
    {
      "cell_type": "code",
      "source": [
        "id=list(fake_news.index)\n",
        "id1=list(true_news.index)"
      ],
      "metadata": {
        "id": "jQDyUN_Kt4Z1"
      },
      "execution_count": 23,
      "outputs": []
    },
    {
      "cell_type": "code",
      "source": [
        "str_temp=\"\"\n",
        "count=0\n",
        "for i in list(fake_news):\n",
        "  count=0\n",
        "  for j in list(fake_news[i]):\n",
        "    for words in j.split():\n",
        "      str_temp+=hi_stem(words)\n",
        "      str_temp+=\" \"\n",
        "    fake_news.loc[id[count],i]=str_temp\n",
        "    str_temp=\"\"\n",
        "    count+=1"
      ],
      "metadata": {
        "id": "iZigCQeOt6z0"
      },
      "execution_count": 24,
      "outputs": []
    },
    {
      "cell_type": "code",
      "source": [
        "str_temp=\"\"\n",
        "count=0\n",
        "for i in list(true_news):\n",
        "  count=0\n",
        "  for j in list(true_news[i]):\n",
        "    for words in j.split():\n",
        "      str_temp+=hi_stem(words)\n",
        "      str_temp+=\" \"\n",
        "    true_news.loc[id1[count],i]=str_temp\n",
        "    str_temp=\"\"\n",
        "    count+=1"
      ],
      "metadata": {
        "id": "MlBFHC7ft8-e"
      },
      "execution_count": 25,
      "outputs": []
    },
    {
      "cell_type": "markdown",
      "source": [
        "Stop words removal"
      ],
      "metadata": {
        "id": "_mrGUKB2uClt"
      }
    },
    {
      "cell_type": "code",
      "source": [
        "stop=open('drive/MyDrive/news/hindi/final_stopwords.txt')\n",
        "stopwords=[]\n",
        "for x in stop:\n",
        "  x = x.replace('\\n', '')\n",
        "  stopwords.append(x)"
      ],
      "metadata": {
        "id": "6s8YUNZ_uDJ_"
      },
      "execution_count": 26,
      "outputs": []
    },
    {
      "cell_type": "code",
      "source": [
        "from numpy import unicode\n",
        "str_temp=\"\"\n",
        "count=0\n",
        "for i in list(fake_news):\n",
        "  count=0\n",
        "  for j in list(fake_news[i]):\n",
        "    for words in j.split():\n",
        "      if unicode(words) not in stopwords:\n",
        "        str_temp+=words\n",
        "        str_temp+=\" \"\n",
        "    fake_news.loc[id[count],i]=str_temp\n",
        "    str_temp=\"\"\n",
        "    count+=1"
      ],
      "metadata": {
        "id": "1lBTElBWuIQN"
      },
      "execution_count": 27,
      "outputs": []
    },
    {
      "cell_type": "code",
      "source": [
        "from numpy import unicode\n",
        "str_temp=\"\"\n",
        "count=0\n",
        "for i in list(true_news):\n",
        "  count=0\n",
        "  for j in list(true_news[i]):\n",
        "    for words in j.split():\n",
        "      if unicode(words) not in stopwords:\n",
        "        str_temp+=words\n",
        "        str_temp+=\" \"\n",
        "    true_news.loc[id1[count],i]=str_temp\n",
        "    str_temp=\"\"\n",
        "    count+=1"
      ],
      "metadata": {
        "id": "jZ5WNzmluK_3"
      },
      "execution_count": 28,
      "outputs": []
    },
    {
      "cell_type": "code",
      "source": [
        "# make both length equal\n",
        "if len(fake_news) > len(true_news):\n",
        "  fake_news = fake_news.head(len(true_news))\n",
        "elif len(true_news) > len(fake_news):\n",
        "  true_news = true_news.head(len(fake_news))\n",
        "print(\"Length of fake news: \", len(fake_news))\n",
        "print(\"Length of true news: \", len(true_news))"
      ],
      "metadata": {
        "colab": {
          "base_uri": "https://localhost:8080/"
        },
        "id": "60pM_-1Rwilc",
        "outputId": "59b63f27-fd71-4124-9495-905ee88baac8"
      },
      "execution_count": 29,
      "outputs": [
        {
          "output_type": "stream",
          "name": "stdout",
          "text": [
            "Length of fake news:  760\n",
            "Length of true news:  760\n"
          ]
        }
      ]
    },
    {
      "cell_type": "code",
      "source": [
        "true_news['label']=1\n",
        "fake_news['label']=0\n",
        "news = pd.concat([fake_news, true_news])\n",
        "news"
      ],
      "metadata": {
        "colab": {
          "base_uri": "https://localhost:8080/",
          "height": 424
        },
        "id": "g2d9sOAepMAf",
        "outputId": "42e7dbec-ef7e-4540-da20-df06286923b0"
      },
      "execution_count": 30,
      "outputs": [
        {
          "output_type": "execute_result",
          "data": {
            "text/plain": [
              "                                     short_description  label\n",
              "0    बूम पाय इमरान खान भारत सरकार आलोच रह वर्तमान श...      0\n",
              "1    सिख समुदाय के लोग हिंद साइन बोर्ड कालिख पोत दि...      0\n",
              "2    सोशल मीडिय प्लेटफ़ॉर्म फ़ेसबुक ट्विटर दाव के बड़ ...      0\n",
              "3                 दाव भाजप के मा सरकार जन के गलत रह ।       0\n",
              "4    मीडिय आउटलेट्स वायर एजेंस गलत तरीक दाव किय पाक...      0\n",
              "..                                                 ...    ...\n",
              "887  चालक कार रोक के बजाय चल जार रख ट्रैफ़िक पुलिसक...      1\n",
              "888                 मिसाइल 400 किलोमीटर ज़्याद मार सक       1\n",
              "889  आकर्षण केंद्र वो शक्तिशाल पहलवान जिनक संबंध प्...      1\n",
              "890  बिहार के जातिगत समीकरण बात लंब बीजेप हिंद पहचा...      1\n",
              "891  एनआईए 83 साल के फ़ादर स्टेन स्वाम गिरफ़्तार यू...      1\n",
              "\n",
              "[1520 rows x 2 columns]"
            ],
            "text/html": [
              "\n",
              "  <div id=\"df-a2a3c4f6-169e-45ba-a2e3-e28ffcef854d\">\n",
              "    <div class=\"colab-df-container\">\n",
              "      <div>\n",
              "<style scoped>\n",
              "    .dataframe tbody tr th:only-of-type {\n",
              "        vertical-align: middle;\n",
              "    }\n",
              "\n",
              "    .dataframe tbody tr th {\n",
              "        vertical-align: top;\n",
              "    }\n",
              "\n",
              "    .dataframe thead th {\n",
              "        text-align: right;\n",
              "    }\n",
              "</style>\n",
              "<table border=\"1\" class=\"dataframe\">\n",
              "  <thead>\n",
              "    <tr style=\"text-align: right;\">\n",
              "      <th></th>\n",
              "      <th>short_description</th>\n",
              "      <th>label</th>\n",
              "    </tr>\n",
              "  </thead>\n",
              "  <tbody>\n",
              "    <tr>\n",
              "      <th>0</th>\n",
              "      <td>बूम पाय इमरान खान भारत सरकार आलोच रह वर्तमान श...</td>\n",
              "      <td>0</td>\n",
              "    </tr>\n",
              "    <tr>\n",
              "      <th>1</th>\n",
              "      <td>सिख समुदाय के लोग हिंद साइन बोर्ड कालिख पोत दि...</td>\n",
              "      <td>0</td>\n",
              "    </tr>\n",
              "    <tr>\n",
              "      <th>2</th>\n",
              "      <td>सोशल मीडिय प्लेटफ़ॉर्म फ़ेसबुक ट्विटर दाव के बड़ ...</td>\n",
              "      <td>0</td>\n",
              "    </tr>\n",
              "    <tr>\n",
              "      <th>3</th>\n",
              "      <td>दाव भाजप के मा सरकार जन के गलत रह ।</td>\n",
              "      <td>0</td>\n",
              "    </tr>\n",
              "    <tr>\n",
              "      <th>4</th>\n",
              "      <td>मीडिय आउटलेट्स वायर एजेंस गलत तरीक दाव किय पाक...</td>\n",
              "      <td>0</td>\n",
              "    </tr>\n",
              "    <tr>\n",
              "      <th>...</th>\n",
              "      <td>...</td>\n",
              "      <td>...</td>\n",
              "    </tr>\n",
              "    <tr>\n",
              "      <th>887</th>\n",
              "      <td>चालक कार रोक के बजाय चल जार रख ट्रैफ़िक पुलिसक...</td>\n",
              "      <td>1</td>\n",
              "    </tr>\n",
              "    <tr>\n",
              "      <th>888</th>\n",
              "      <td>मिसाइल 400 किलोमीटर ज़्याद मार सक</td>\n",
              "      <td>1</td>\n",
              "    </tr>\n",
              "    <tr>\n",
              "      <th>889</th>\n",
              "      <td>आकर्षण केंद्र वो शक्तिशाल पहलवान जिनक संबंध प्...</td>\n",
              "      <td>1</td>\n",
              "    </tr>\n",
              "    <tr>\n",
              "      <th>890</th>\n",
              "      <td>बिहार के जातिगत समीकरण बात लंब बीजेप हिंद पहचा...</td>\n",
              "      <td>1</td>\n",
              "    </tr>\n",
              "    <tr>\n",
              "      <th>891</th>\n",
              "      <td>एनआईए 83 साल के फ़ादर स्टेन स्वाम गिरफ़्तार यू...</td>\n",
              "      <td>1</td>\n",
              "    </tr>\n",
              "  </tbody>\n",
              "</table>\n",
              "<p>1520 rows × 2 columns</p>\n",
              "</div>\n",
              "      <button class=\"colab-df-convert\" onclick=\"convertToInteractive('df-a2a3c4f6-169e-45ba-a2e3-e28ffcef854d')\"\n",
              "              title=\"Convert this dataframe to an interactive table.\"\n",
              "              style=\"display:none;\">\n",
              "        \n",
              "  <svg xmlns=\"http://www.w3.org/2000/svg\" height=\"24px\"viewBox=\"0 0 24 24\"\n",
              "       width=\"24px\">\n",
              "    <path d=\"M0 0h24v24H0V0z\" fill=\"none\"/>\n",
              "    <path d=\"M18.56 5.44l.94 2.06.94-2.06 2.06-.94-2.06-.94-.94-2.06-.94 2.06-2.06.94zm-11 1L8.5 8.5l.94-2.06 2.06-.94-2.06-.94L8.5 2.5l-.94 2.06-2.06.94zm10 10l.94 2.06.94-2.06 2.06-.94-2.06-.94-.94-2.06-.94 2.06-2.06.94z\"/><path d=\"M17.41 7.96l-1.37-1.37c-.4-.4-.92-.59-1.43-.59-.52 0-1.04.2-1.43.59L10.3 9.45l-7.72 7.72c-.78.78-.78 2.05 0 2.83L4 21.41c.39.39.9.59 1.41.59.51 0 1.02-.2 1.41-.59l7.78-7.78 2.81-2.81c.8-.78.8-2.07 0-2.86zM5.41 20L4 18.59l7.72-7.72 1.47 1.35L5.41 20z\"/>\n",
              "  </svg>\n",
              "      </button>\n",
              "      \n",
              "  <style>\n",
              "    .colab-df-container {\n",
              "      display:flex;\n",
              "      flex-wrap:wrap;\n",
              "      gap: 12px;\n",
              "    }\n",
              "\n",
              "    .colab-df-convert {\n",
              "      background-color: #E8F0FE;\n",
              "      border: none;\n",
              "      border-radius: 50%;\n",
              "      cursor: pointer;\n",
              "      display: none;\n",
              "      fill: #1967D2;\n",
              "      height: 32px;\n",
              "      padding: 0 0 0 0;\n",
              "      width: 32px;\n",
              "    }\n",
              "\n",
              "    .colab-df-convert:hover {\n",
              "      background-color: #E2EBFA;\n",
              "      box-shadow: 0px 1px 2px rgba(60, 64, 67, 0.3), 0px 1px 3px 1px rgba(60, 64, 67, 0.15);\n",
              "      fill: #174EA6;\n",
              "    }\n",
              "\n",
              "    [theme=dark] .colab-df-convert {\n",
              "      background-color: #3B4455;\n",
              "      fill: #D2E3FC;\n",
              "    }\n",
              "\n",
              "    [theme=dark] .colab-df-convert:hover {\n",
              "      background-color: #434B5C;\n",
              "      box-shadow: 0px 1px 3px 1px rgba(0, 0, 0, 0.15);\n",
              "      filter: drop-shadow(0px 1px 2px rgba(0, 0, 0, 0.3));\n",
              "      fill: #FFFFFF;\n",
              "    }\n",
              "  </style>\n",
              "\n",
              "      <script>\n",
              "        const buttonEl =\n",
              "          document.querySelector('#df-a2a3c4f6-169e-45ba-a2e3-e28ffcef854d button.colab-df-convert');\n",
              "        buttonEl.style.display =\n",
              "          google.colab.kernel.accessAllowed ? 'block' : 'none';\n",
              "\n",
              "        async function convertToInteractive(key) {\n",
              "          const element = document.querySelector('#df-a2a3c4f6-169e-45ba-a2e3-e28ffcef854d');\n",
              "          const dataTable =\n",
              "            await google.colab.kernel.invokeFunction('convertToInteractive',\n",
              "                                                     [key], {});\n",
              "          if (!dataTable) return;\n",
              "\n",
              "          const docLinkHtml = 'Like what you see? Visit the ' +\n",
              "            '<a target=\"_blank\" href=https://colab.research.google.com/notebooks/data_table.ipynb>data table notebook</a>'\n",
              "            + ' to learn more about interactive tables.';\n",
              "          element.innerHTML = '';\n",
              "          dataTable['output_type'] = 'display_data';\n",
              "          await google.colab.output.renderOutput(dataTable, element);\n",
              "          const docLink = document.createElement('div');\n",
              "          docLink.innerHTML = docLinkHtml;\n",
              "          element.appendChild(docLink);\n",
              "        }\n",
              "      </script>\n",
              "    </div>\n",
              "  </div>\n",
              "  "
            ]
          },
          "metadata": {},
          "execution_count": 30
        }
      ]
    },
    {
      "cell_type": "markdown",
      "source": [
        "Text Representation"
      ],
      "metadata": {
        "id": "MGw6NwGZxI0F"
      }
    },
    {
      "cell_type": "code",
      "source": [
        "X = news.iloc[:, 0]\n",
        "y = news.iloc[:, 1]"
      ],
      "metadata": {
        "id": "JxCwBOuZxdck"
      },
      "execution_count": 31,
      "outputs": []
    },
    {
      "cell_type": "code",
      "source": [
        "from sklearn.feature_extraction.text import CountVectorizer, TfidfVectorizer\n",
        "hin_vec = CountVectorizer(max_features=5000)\n",
        "bow_data = hin_vec.fit_transform(X).toarray()\n",
        "features = hin_vec.get_feature_names_out()\n",
        "bow_data = pd.DataFrame(bow_data, columns=features)"
      ],
      "metadata": {
        "id": "E1RCW-kOxI0G"
      },
      "execution_count": 32,
      "outputs": []
    },
    {
      "cell_type": "markdown",
      "source": [
        "Training"
      ],
      "metadata": {
        "id": "OdVYEjzFyA5-"
      }
    },
    {
      "cell_type": "code",
      "source": [
        "from sklearn.naive_bayes import MultinomialNB\n",
        "nb = MultinomialNB()\n",
        "from sklearn.naive_bayes import BernoulliNB\n",
        "bnb = BernoulliNB()\n",
        "from sklearn.tree import DecisionTreeClassifier\n",
        "dt = DecisionTreeClassifier()\n",
        "from sklearn.linear_model import SGDClassifier\n",
        "sgd = SGDClassifier(loss=\"log\")\n",
        "from sklearn.ensemble import RandomForestClassifier\n",
        "rf = RandomForestClassifier()\n",
        "from sklearn.ensemble import VotingClassifier\n",
        "model = VotingClassifier(estimators=[('MultinomialNB', nb), ('BernoulliNB', bnb), ('DecisionTreeClassifier', dt),\n",
        "                                              ('SGDClassifier', sgd), ('RandomForestClassifier', rf)], voting='soft')"
      ],
      "metadata": {
        "id": "5MgMlCd1yA5-"
      },
      "execution_count": 33,
      "outputs": []
    },
    {
      "cell_type": "code",
      "source": [
        "from sklearn.model_selection import train_test_split\n",
        "from sklearn.metrics import classification_report\n",
        "\n",
        "xtrain, xtest, ytrain, ytest = train_test_split(bow_data, y, test_size=0.2)\n",
        "model.fit(xtrain, ytrain)\n",
        "ypred_ts = model.predict(xtest)\n",
        "print(\"Testing Results:\\n\")\n",
        "print(classification_report(ytest, ypred_ts, target_names=['FAKE', 'REAL']))"
      ],
      "metadata": {
        "colab": {
          "base_uri": "https://localhost:8080/"
        },
        "outputId": "70326a34-4efb-488d-cf47-af1d2e90641a",
        "id": "wCIkXmZUyA5_"
      },
      "execution_count": 34,
      "outputs": [
        {
          "output_type": "stream",
          "name": "stdout",
          "text": [
            "Testing Results:\n",
            "\n",
            "              precision    recall  f1-score   support\n",
            "\n",
            "        FAKE       0.86      0.89      0.87       161\n",
            "        REAL       0.87      0.84      0.85       143\n",
            "\n",
            "    accuracy                           0.87       304\n",
            "   macro avg       0.87      0.86      0.86       304\n",
            "weighted avg       0.87      0.87      0.86       304\n",
            "\n"
          ]
        }
      ]
    },
    {
      "cell_type": "code",
      "source": [
        "import joblib  \n",
        "# Save the model as a pickle in a file \n",
        "joblib.dump(model, 'hindi.pkl')  "
      ],
      "metadata": {
        "colab": {
          "base_uri": "https://localhost:8080/"
        },
        "id": "2lTWFOW-qbYg",
        "outputId": "136d814c-a9c8-4017-b8d0-3799a9755b85"
      },
      "execution_count": 35,
      "outputs": [
        {
          "output_type": "execute_result",
          "data": {
            "text/plain": [
              "['hindi.pkl']"
            ]
          },
          "metadata": {},
          "execution_count": 35
        }
      ]
    },
    {
      "cell_type": "markdown",
      "source": [
        "Prediction"
      ],
      "metadata": {
        "id": "I4V7qoCSyA6A"
      }
    },
    {
      "cell_type": "code",
      "source": [
        "tinput = 'भारत ऑस्ट्रेलिय टेस्ट सिरीज़ ऐतिहासिक जीत दर्ज चौथ निर्णायक मैच नौजवान गेंदबाज़ मोहम्मद सिराज अहम भूमिक निभ'\n",
        "finput = 'बूम पाय इमरान खान भारत सरकार आलोच रह वर्तमान शासन अधिनायकवाद मुस्लिम विरोध पाकिस्तान'\n",
        "input = hin_vec.transform([finput]).toarray()\n",
        "features = hin_vec.get_feature_names_out()\n",
        "input = pd.DataFrame(input, columns=features)\n",
        "pred = model.predict(input)\n",
        "if pred[0] == 1:\n",
        "    print('REAL')\n",
        "else:\n",
        "    print('FAKE')"
      ],
      "metadata": {
        "colab": {
          "base_uri": "https://localhost:8080/"
        },
        "id": "ryIcXH0zyA6A",
        "outputId": "f82d395e-005b-4450-f5c3-6d7ac29c9106"
      },
      "execution_count": 36,
      "outputs": [
        {
          "output_type": "stream",
          "name": "stdout",
          "text": [
            "FAKE\n"
          ]
        }
      ]
    },
    {
      "cell_type": "markdown",
      "source": [
        "## Bengali"
      ],
      "metadata": {
        "id": "NNrFiiZDzFTk"
      }
    },
    {
      "cell_type": "code",
      "source": [
        "!pip install bnlp_toolkit"
      ],
      "metadata": {
        "id": "fu8YsDJz7fPV",
        "colab": {
          "base_uri": "https://localhost:8080/"
        },
        "outputId": "d326a24b-0e81-40e6-d87f-bdd86a511a98"
      },
      "execution_count": 37,
      "outputs": [
        {
          "output_type": "stream",
          "name": "stdout",
          "text": [
            "Collecting bnlp_toolkit\n",
            "  Downloading bnlp_toolkit-3.1.2-py3-none-any.whl (17 kB)\n",
            "Requirement already satisfied: numpy in /usr/local/lib/python3.7/dist-packages (from bnlp_toolkit) (1.21.6)\n",
            "Collecting gensim==4.0.1\n",
            "  Downloading gensim-4.0.1-cp37-cp37m-manylinux1_x86_64.whl (23.9 MB)\n",
            "\u001b[K     |████████████████████████████████| 23.9 MB 33.6 MB/s \n",
            "\u001b[?25hCollecting sklearn-crfsuite\n",
            "  Downloading sklearn_crfsuite-0.3.6-py2.py3-none-any.whl (12 kB)\n",
            "Requirement already satisfied: scipy in /usr/local/lib/python3.7/dist-packages (from bnlp_toolkit) (1.4.1)\n",
            "Collecting sentencepiece\n",
            "  Downloading sentencepiece-0.1.96-cp37-cp37m-manylinux_2_17_x86_64.manylinux2014_x86_64.whl (1.2 MB)\n",
            "\u001b[K     |████████████████████████████████| 1.2 MB 66.3 MB/s \n",
            "\u001b[?25hRequirement already satisfied: wasabi in /usr/local/lib/python3.7/dist-packages (from bnlp_toolkit) (0.9.1)\n",
            "Requirement already satisfied: nltk in /usr/local/lib/python3.7/dist-packages (from bnlp_toolkit) (3.2.5)\n",
            "Requirement already satisfied: smart-open>=1.8.1 in /usr/local/lib/python3.7/dist-packages (from gensim==4.0.1->bnlp_toolkit) (5.2.1)\n",
            "Requirement already satisfied: six in /usr/local/lib/python3.7/dist-packages (from nltk->bnlp_toolkit) (1.15.0)\n",
            "Requirement already satisfied: tqdm>=2.0 in /usr/local/lib/python3.7/dist-packages (from sklearn-crfsuite->bnlp_toolkit) (4.64.0)\n",
            "Collecting python-crfsuite>=0.8.3\n",
            "  Downloading python_crfsuite-0.9.8-cp37-cp37m-manylinux_2_17_x86_64.manylinux2014_x86_64.whl (965 kB)\n",
            "\u001b[K     |████████████████████████████████| 965 kB 41.4 MB/s \n",
            "\u001b[?25hRequirement already satisfied: tabulate in /usr/local/lib/python3.7/dist-packages (from sklearn-crfsuite->bnlp_toolkit) (0.8.9)\n",
            "Installing collected packages: python-crfsuite, sklearn-crfsuite, sentencepiece, gensim, bnlp-toolkit\n",
            "  Attempting uninstall: gensim\n",
            "    Found existing installation: gensim 3.6.0\n",
            "    Uninstalling gensim-3.6.0:\n",
            "      Successfully uninstalled gensim-3.6.0\n",
            "Successfully installed bnlp-toolkit-3.1.2 gensim-4.0.1 python-crfsuite-0.9.8 sentencepiece-0.1.96 sklearn-crfsuite-0.3.6\n"
          ]
        }
      ]
    },
    {
      "cell_type": "code",
      "source": [
        "import warnings\n",
        "warnings.filterwarnings('ignore')"
      ],
      "metadata": {
        "id": "zLQCT1De0srM"
      },
      "execution_count": 38,
      "outputs": []
    },
    {
      "cell_type": "code",
      "source": [
        "import pandas as pd\n",
        "auth = pd.read_csv(\"drive/MyDrive/news/bengali/Authentic-48K.csv\")\n",
        "fake = pd.read_csv(\"drive/MyDrive/news/bengali/Fake-1K.csv\")"
      ],
      "metadata": {
        "id": "dd-pp7vx6I-L"
      },
      "execution_count": 39,
      "outputs": []
    },
    {
      "cell_type": "code",
      "source": [
        "df = auth[:fake.shape[0]]\n",
        "df = df.append(fake)\n",
        "df = df.sample(frac=1).reset_index(drop=True)"
      ],
      "metadata": {
        "id": "f0P9X7WE-UqD"
      },
      "execution_count": 40,
      "outputs": []
    },
    {
      "cell_type": "markdown",
      "source": [
        "Preprocessing"
      ],
      "metadata": {
        "id": "FYCJPWir7laO"
      }
    },
    {
      "cell_type": "code",
      "source": [
        "from bnlp import BasicTokenizer\n",
        "from bnlp.corpus import stopwords, punctuations, letters, digits\n",
        "\n",
        "btokenizer = BasicTokenizer()\n",
        "\n",
        "def clean_text(text):\n",
        "    tokens = btokenizer.tokenize(text)\n",
        "    filtered = []\n",
        "    for i in tokens:\n",
        "        if i in stopwords:\n",
        "            continue\n",
        "    \n",
        "        if i in punctuations + '‘' + '’':\n",
        "            continue\n",
        "    \n",
        "        filtered.append(i)\n",
        "    \n",
        "    return \" \".join(filtered)"
      ],
      "metadata": {
        "id": "6rKIJsi0-SnT"
      },
      "execution_count": 41,
      "outputs": []
    },
    {
      "cell_type": "code",
      "source": [
        "df['headline'] = df.headline.apply(clean_text)\n",
        "df['content'] = df.content.apply(clean_text)"
      ],
      "metadata": {
        "id": "UoYJhM2XBX_g"
      },
      "execution_count": 42,
      "outputs": []
    },
    {
      "cell_type": "code",
      "source": [
        "# dropping unncessary columns\n",
        "df = df.drop(['articleID','domain','date','category'],axis=1)"
      ],
      "metadata": {
        "id": "JHsACqkvBZV4"
      },
      "execution_count": 43,
      "outputs": []
    },
    {
      "cell_type": "markdown",
      "source": [
        "Text Representation"
      ],
      "metadata": {
        "id": "BZFUIpVLDVyS"
      }
    },
    {
      "cell_type": "code",
      "source": [
        "X = df.iloc[:, 1]\n",
        "y = df.iloc[:, 2]"
      ],
      "metadata": {
        "id": "rWE0GqHyDVyS"
      },
      "execution_count": 44,
      "outputs": []
    },
    {
      "cell_type": "code",
      "source": [
        "from sklearn.feature_extraction.text import CountVectorizer, TfidfVectorizer\n",
        "vectorizer = CountVectorizer(max_features=5000)\n",
        "bow_data = vectorizer.fit_transform(X).toarray()\n",
        "features = vectorizer.get_feature_names_out()\n",
        "bow_data = pd.DataFrame(bow_data, columns=features)"
      ],
      "metadata": {
        "id": "O33h-jViDVyT"
      },
      "execution_count": 45,
      "outputs": []
    },
    {
      "cell_type": "markdown",
      "source": [
        "Training"
      ],
      "metadata": {
        "id": "1p06AxvrDVyT"
      }
    },
    {
      "cell_type": "code",
      "source": [
        "from sklearn.naive_bayes import MultinomialNB\n",
        "nb = MultinomialNB()\n",
        "from sklearn.naive_bayes import BernoulliNB\n",
        "bnb = BernoulliNB()\n",
        "from sklearn.tree import DecisionTreeClassifier\n",
        "dt = DecisionTreeClassifier()\n",
        "from sklearn.linear_model import SGDClassifier\n",
        "sgd = SGDClassifier(loss=\"log\")\n",
        "from sklearn.ensemble import RandomForestClassifier\n",
        "rf = RandomForestClassifier()\n",
        "from sklearn.ensemble import VotingClassifier\n",
        "model = VotingClassifier(estimators=[('MultinomialNB', nb), ('BernoulliNB', bnb), ('DecisionTreeClassifier', dt),\n",
        "                                              ('SGDClassifier', sgd), ('RandomForestClassifier', rf)], voting='soft')"
      ],
      "metadata": {
        "id": "yTsvPrQaDVyU"
      },
      "execution_count": 46,
      "outputs": []
    },
    {
      "cell_type": "code",
      "source": [
        "from sklearn.model_selection import train_test_split\n",
        "from sklearn.metrics import classification_report\n",
        "\n",
        "xtrain, xtest, ytrain, ytest = train_test_split(bow_data, y, test_size=0.2)\n",
        "model.fit(xtrain, ytrain)\n",
        "ypred_ts = model.predict(xtest)\n",
        "print(\"Testing Results:\\n\")\n",
        "print(classification_report(ytest, ypred_ts, target_names=['FAKE', 'REAL']))"
      ],
      "metadata": {
        "colab": {
          "base_uri": "https://localhost:8080/"
        },
        "outputId": "d6bc81a1-98da-4954-ae2b-dd8b917d44de",
        "id": "cqZhI8yCDVyU"
      },
      "execution_count": 47,
      "outputs": [
        {
          "output_type": "stream",
          "name": "stdout",
          "text": [
            "Testing Results:\n",
            "\n",
            "              precision    recall  f1-score   support\n",
            "\n",
            "        FAKE       0.90      0.91      0.90       254\n",
            "        REAL       0.91      0.90      0.91       266\n",
            "\n",
            "    accuracy                           0.90       520\n",
            "   macro avg       0.90      0.90      0.90       520\n",
            "weighted avg       0.90      0.90      0.90       520\n",
            "\n"
          ]
        }
      ]
    },
    {
      "cell_type": "code",
      "source": [
        "import joblib  \n",
        "# Save the model as a pickle in a file \n",
        "joblib.dump(model, 'bangla.pkl')  "
      ],
      "metadata": {
        "colab": {
          "base_uri": "https://localhost:8080/"
        },
        "id": "obC9RO2VJSvr",
        "outputId": "f9925c9d-065b-4185-8ed2-9eaed7f0fc04"
      },
      "execution_count": 48,
      "outputs": [
        {
          "output_type": "execute_result",
          "data": {
            "text/plain": [
              "['bangla.pkl']"
            ]
          },
          "metadata": {},
          "execution_count": 48
        }
      ]
    },
    {
      "cell_type": "markdown",
      "source": [
        "Prediction"
      ],
      "metadata": {
        "id": "zq-ZoQ1HDVyV"
      }
    },
    {
      "cell_type": "code",
      "source": [
        "tinput = 'আন্তর্জাতিক ডেস্ক আরটিএনএন কোপেহেগেন মসজিদের নিচের তলায় প্রবেশাধিকার সংরক্ষণ ইমামদের চুপচাপ থাকার নির্দেশ মূল ফটক দিয়ে প্রবেশে বাঁধা প্রাপ্ত হওয়া কারণে মুসলিম নারীরা মসজিদে পুরুষদের শাসিত হয়ে ধারণা বাস্তবতার প্রেক্ষিতে ডেনমার্কের কোপেনহেগন যুক্তরাষ্ট্রের লস এঞ্জেলস শহরে ইতিমধ্যেই গড়ে ওঠেছে শুধুমাত্র মুসলিম নারীদের ইবাদত মসজিদ বর্তমানে মুসলিম নারীরা উপাসনালয়ের অধিকার সোচ্চার ইতিহাস জুড়ে পুরুষ পরিচালিত হয়েছিলো ইউরোপে মুসলিম নারীদের মসজিদের প্রতিষ্ঠাতা শেরিন খানকান বার্তা সংস্থা রয়টার্সকে জানান দশকের দশকে পুরুষতান্ত্রিক মনোভাব গড়ে উঠেছে পাল্টানো সম্ভব ডেনমার্কের ব্যস্ততম বাজারে রাস্তার পাশেই মসজিদ গড়ে তুলেছেন সচরাচর চোখে পড়ে মসজিদটি নারীদের এরকম উদ্যোগে সৃষ্টির নীরবে বিপ্লব ঘটিয়ে চলেছে গত বছর ধরেই মসজিদটিতে নারী ইমাম নামাজে নেতৃত্ব দিয়ে আসছেন খানকান কুরআনের শিক্ষার বিরুদ্ধে পুরুষতান্ত্রিক মনোভাব পাল্টাতে নতুনভাবে চাই লিঙ্গ বৈষম্য দূর চাই সংস্কার ইসলামের মূল শিক্ষার চাই শেরিন খানকান এমনটি শেরিন খানকান আরো মসজিদে ১৫০ ইবাদতকারী নিয়মিত ইবাদত আসেন ডেনমার্কের মুসলিম নারী ধর্মীয় নেতৃবৃন্দের নিকট সহযোগিতা পেয়েছেন বলেও উল্লেখ নারীদের নিবেদিত স্থান মুসলিম নারীদের সংগঠন জানিয়েছে বর্তমান বিশ্বে নারী ইসলামী নেতৃত্বের বড়ই অভাব দেশের বেশীরভাগ মসজিদগুলো পুরুষদের নিয়ন্ত্রিত মুসলিম নারীদের মসজিদে প্রার্থনা করাটা কঠিন হয়ে দাঁড়ায় গত ১৫ বছর প্রচেষ্টার ফলাফল স্বরূপ শেরিন খানকানের মারিয়াম মসজিদই যুক্তরাষ্ট্রের লস এঞ্জেলস শহর জার্মানির বার্লিনে দুইটি মসজিদ প্রতিষ্ঠা হয়েছে শুক্রবার নারী পুরুষদের মসজিদে একত্রে নামায আদায় সুযোগ দিচ্ছে এমনকি যুক্তরাজ্যের ব্রেডফ্রোড শহরে দেশটির নারী নেতৃত্বাধীন মসজিদ প্রতিষ্ঠা ২০২০ সালের সম্পন্ন ধারণা জেনে দরকার চীনে শত বছর ধরেই শুধুমাত্র মুসলিম নারীদের আলাদা মসজিদ রয়েছে ঐতিহ্যগতভাবে মুসলিম নারীরা নেতৃত্ব দিয়ে যুক্তরাজ্যের ব্রেডফ্রোড শহরের মসজিদ প্রতিষ্ঠার অন্যতম উদ্যোক্তা বানা গোরা ব্রিটেন মুসলিম ওমেন স কাউন্সিলের পরিচালক সমাজে বিদ্যমান সমস্যাগুলো মুসলিম নারীরা অন্যের সাথে মত প্রকাশ কোথায় দরকার নিবেদিত স্থান মুসলিম নারীরা মত প্রকাশ পারবে কোথায়ও এরকম স্থান পাইনা আরো সেজন্যই নারীরা মসজিদে স্থান দেয়ার দাবী জানাচ্ছে এটাতে ভুল দেখছি নারীদের অন্তরীণ হয়েছে শেরিন খানকান মসজিদে নারীদের উপস্থিতি তাদেরকে অধিকার প্রতিষ্ঠিত হয়েছে অনুভূতি দেয় মসজিদে গুরুত্বপূর্ণ সমস্যার সমাধান আন্ত ধর্মীয় বিবাহ গৃহ সংঘাত আরো ডেনমার্কে বোরকা নিষিদ্ধ কারণে মুসলিম নারীদের নিরাপদ পৃথিবী সংকুচিত হয়ে ফ্রান্সসহ অন্যান্য ইউরোপীয় দেশের সাথে তাল মিলিয়ে ডেনমার্কের আইনসভা চলতি বছরের মে মাসে বোরকার নিষেধাজ্ঞা আরোপ দেশটির বিচার মন্ত্রী বোরকা নিষিদ্ধ ডেনমার্কের নারীদেরকে পরিবারের জোর চাপিয়ে দেয়া সিদ্ধান্ত মুক্তি দিয়েছেন দাবী শেরিন খানকান নারীদেরকে জোর বোরকা পরিধান করানো তাদেরকে অন্তরীণ সামিল অবশ্যই শুভ বিষয় বোরকা পরিধানকারীদের অপরাধীদের সাথে তুলনা নারীদেরকে আরো বেশী অন্তরীণ সামিল ইসলামের ভবিষ্যৎ শেরিন খানকান আশা ভবিষ্যতে মুসলিম নারীদের মধ্য ইসলামী বিশেষজ্ঞ ইমাম উঠে আসবেন মুসলিম নারীদের অধিকার প্রতিষ্ঠায় গুরুত্বপূর্ণ ভূমিকা রাখবেন দরকার নারীরাই ইসলামের ভবিষ্যৎ অবশ্যই নারীদের পুরুষদের মত সমান সুযোগ সৃষ্টি প্রসঙ্গত বেশীরভাগ ইসলামী বিশেষজ্ঞের মতে পবিত্র কুরআনে নারীদের নামাজে ইমামতি সরাসরি হয়নি বিশেষজ্ঞ নবী মুহাম্মদ সাঃ নারীদেরকে ইমামতি অনুমতি দিয়েছেন অন্যদিকে বেশীরভাগ বিশেষজ্ঞ নবী মুহাম্মদ সাঃ নারীদেরকে শুধুমাত্র গৃহে ইবাদত নির্দেশ দিয়েছেন এখনো ঐতিহ্যগত ইসলামী বিশেষজ্ঞ নারীরা নামায রত পুরুষদের কণ্ঠস্বর শোনা এডিনবার্গ বিশ্ববিদ্যালয়ের গিউলিয়া লিবারেটর নামের একজন অধ্যাপক মুসলিম নারী বিশেষজ্ঞদের গবেষণারত আছেন মুসলিম নারীদেরকে ক্ষমতা দেয়া প্রভাব ইতিবাচক নারীরা নারীদেরকে উচ্চ আসনে দেখবে ধারণা জন্মাবে তারাও একজন বিশেষজ্ঞ পারবেন গিউলিয়া লিবারেটর এমনটি জানান সূত্রঃ স্ক্রল ডট ইন'\n",
        "finput = 'পরিচিত কারো সাথে ডাক্তার মেয়ে বিয়ে দিয়েন পলাশ ভাই আমারে দেখেন ডাক্তার মেয়ে বিয়ে এক বিপদে আছি বিয়ের রাতে বাসর ঘরে ঢুকার পুরাই বেকুব বউয়ের কিসের ঘোমটা কিসের দেখি টেবিলে মোটা মোটা তিনটা বই বড়ো বড়ো চোখ পড়তাছে আমারে তিনদিন পরীক্ষা বিয়ের ঝামেলায় পড়তে ঠিকমতো আজকে সারারাত পরলে ফেইল সারারাত পড়ছে তাইলে মাঝখানে ভদ্রতা জিজ্জাসা করছি লাগবে ভদ্রতা গিয়া আরেক বিপদ আমারে এক ফ্লাস্ক চা এতো রাইতে চা পাই কই রাত তিনটায় শেরওয়ানি পড়ে কিচেনে ঢুকছি চা বানাইতে আল্লাহ্ বাঁচাইছে পরীক্ষার হয়ে আরো খারাপ হইছে পরীক্ষার পরই হইছে ইন্টার্নি রাতে ডিউটি যাও রাতে পাইতাম গেলো সারারাত ডিউটি দিয়া বাসায় আসার সারাদিন নাক ডাকাইয়া ভুস ভুস শব্দ কইরা ঘুমাইতো তাইলে রোমান্টিকতা পারো করছিলাম গভীর রাতে এসএমএস দিছি তোমারে পাইতে ইচ্ছা করতাছে বউ রিপ্লাই দিছে হাসপাতালে চইল্যা আসো করলা করমু একটা রিলাক্সিন খাইয়া শরীর রিলাক্স কইরা ঘুমাইয়া গেছি বউ ডাক্তার হওয়াতে একটা সুবিধা হইছে কখন ঔষধ খাইতে হইবো মোটামুটি শেষ একটা ছেলে হইছে কেমন হইছে মহাত্মা গান্ধীর পলাশ ভাই মহাত্মা গান্ধীরে প্যাম্পার পড়াইলে দেখাইবো লাগে ভালো কথা ভাবি ডাক্তার ডাক্তারি পড়ার শখ ছিলো কারণে পড়া আল্লাহ্ বড় বাঁচাইছে পলাশ ভাই ভাবিরে – আপনারে'\n",
        "input = clean_text(tinput)\n",
        "bow_data = vectorizer.transform([input]).toarray()\n",
        "features = vectorizer.get_feature_names_out()\n",
        "bow_data = pd.DataFrame(bow_data, columns=features)\n",
        "model = joblib.load('bangla.pkl')\n",
        "pred = model.predict(bow_data)\n",
        "if pred[0] == 1:\n",
        "    print('REAL')\n",
        "else:\n",
        "    print('FAKE')"
      ],
      "metadata": {
        "colab": {
          "base_uri": "https://localhost:8080/"
        },
        "id": "E28XsQr-DVyV",
        "outputId": "5bca05ee-c3b3-42c9-b7d7-f009b4a16080"
      },
      "execution_count": 49,
      "outputs": [
        {
          "output_type": "stream",
          "name": "stdout",
          "text": [
            "REAL\n"
          ]
        }
      ]
    },
    {
      "cell_type": "markdown",
      "source": [
        "## Web"
      ],
      "metadata": {
        "id": "4u8IseKrGWEo"
      }
    },
    {
      "cell_type": "code",
      "source": [
        "!pip install pyngrok\n",
        "!pip install langdetect\n",
        "!pip install flask-ngrok\n",
        "!pip install flask-cors==3.0.7"
      ],
      "metadata": {
        "id": "uiXcgP3IMJk7"
      },
      "execution_count": null,
      "outputs": []
    },
    {
      "cell_type": "code",
      "source": [
        "!ngrok authtoken 24jMmkCh5Tr4hOZ9Dpg69QtTDSH_3n21SSxtBHr1F9QckcBzi"
      ],
      "metadata": {
        "colab": {
          "base_uri": "https://localhost:8080/"
        },
        "id": "aMfYo6gRMKjc",
        "outputId": "2e516f4f-eb77-4b85-ee20-68ee5987030b"
      },
      "execution_count": 51,
      "outputs": [
        {
          "output_type": "stream",
          "name": "stdout",
          "text": [
            "Authtoken saved to configuration file: /root/.ngrok2/ngrok.yml\n"
          ]
        }
      ]
    },
    {
      "cell_type": "code",
      "source": [
        "from flask_ngrok import run_with_ngrok\n",
        "from flask import Flask\n",
        "from flask import app,request, render_template\n",
        "import json\n",
        "import sys\n",
        "from flask import jsonify\n",
        "# import requests\n",
        "from datetime import datetime\n",
        "from base64 import b64decode\n",
        "from flask_cors import CORS, cross_origin\n",
        "from langdetect import detect\n",
        "\n",
        "app = Flask(__name__)\n",
        "cors = CORS(app)\n",
        "run_with_ngrok(app)   #starts ngrok when the app is run\n",
        "@app.route('/')\n",
        "def index():\n",
        "    return render_template(\"index.html\")\n",
        "\n",
        "@app.route('/',methods=['POST'])\n",
        "def pre():\n",
        "    if request.method == 'POST':\n",
        "        txt = request.form['txt']\n",
        "        lang = detect(str(txt))\n",
        "        if lang == 'bn':\n",
        "            txt = str(txt)\n",
        "            txt = clean_text(txt)\n",
        "            bow_data = vectorizer.transform([txt]).toarray()\n",
        "            features = vectorizer.get_feature_names_out()\n",
        "            bow_data = pd.DataFrame(bow_data, columns=features)\n",
        "            model = joblib.load('bangla.pkl')\n",
        "            pred = model.predict(bow_data)\n",
        "            # print(pred)\n",
        "            return render_template(\"index.html\", result = pred[0])\n",
        "        elif lang == 'en':\n",
        "            txt = str(txt)\n",
        "            txt = process(txt)\n",
        "            txt = \" \".join(txt)\n",
        "            txt = eng_vec.transform([txt]).toarray()\n",
        "            features = eng_vec.get_feature_names_out()\n",
        "            txt = pd.DataFrame(txt, columns=features)\n",
        "            model = joblib.load('english.pkl')\n",
        "            pred = model.predict(txt)\n",
        "            # print(pred)\n",
        "            return render_template(\"index.html\", result = pred[0])\n",
        "        elif lang == 'hi':\n",
        "            bow_data = hin_vec.transform([txt]).toarray()\n",
        "            features = hin_vec.get_feature_names_out()\n",
        "            bow_data = pd.DataFrame(bow_data, columns=features)\n",
        "            model = joblib.load('hindi.pkl')\n",
        "            pred = model.predict(bow_data)\n",
        "            # print(pred)\n",
        "            return render_template(\"index.html\", result = pred[0])\n",
        "        else:\n",
        "            return render_template(\"index.html\", result = 2)\n",
        "    return ''\n",
        "\n",
        "if __name__ == '__main__':\n",
        "    app.run()"
      ],
      "metadata": {
        "colab": {
          "base_uri": "https://localhost:8080/"
        },
        "id": "DzNniDFyGWml",
        "outputId": "bc0259e4-77f4-4732-95b5-1a0c2e7434ad"
      },
      "execution_count": 76,
      "outputs": [
        {
          "output_type": "stream",
          "name": "stdout",
          "text": [
            " * Serving Flask app \"__main__\" (lazy loading)\n",
            " * Environment: production\n",
            "\u001b[31m   WARNING: This is a development server. Do not use it in a production deployment.\u001b[0m\n",
            "\u001b[2m   Use a production WSGI server instead.\u001b[0m\n",
            " * Debug mode: off\n"
          ]
        },
        {
          "output_type": "stream",
          "name": "stderr",
          "text": [
            " * Running on http://127.0.0.1:5000/ (Press CTRL+C to quit)\n"
          ]
        },
        {
          "output_type": "stream",
          "name": "stdout",
          "text": [
            " * Running on http://7e6d-34-74-61-236.ngrok.io\n",
            " * Traffic stats available on http://127.0.0.1:4040\n"
          ]
        },
        {
          "output_type": "stream",
          "name": "stderr",
          "text": [
            "127.0.0.1 - - [20/Apr/2022 09:23:02] \"\u001b[37mGET / HTTP/1.1\u001b[0m\" 200 -\n",
            "127.0.0.1 - - [20/Apr/2022 09:23:03] \"\u001b[33mGET /favicon.ico HTTP/1.1\u001b[0m\" 404 -\n",
            "127.0.0.1 - - [20/Apr/2022 09:23:19] \"\u001b[37mPOST / HTTP/1.1\u001b[0m\" 200 -\n",
            "127.0.0.1 - - [20/Apr/2022 09:23:59] \"\u001b[37mPOST / HTTP/1.1\u001b[0m\" 200 -\n"
          ]
        }
      ]
    }
  ]
}